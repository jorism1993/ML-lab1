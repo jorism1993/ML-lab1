{
 "cells": [
  {
   "cell_type": "markdown",
   "metadata": {},
   "source": [
    "# **Save this file as studentid1_studentid2_lab#.ipynb**\n",
    "(Your student-id is the number shown on your student card.)\n",
    "\n",
    "E.g. if you work with 3 people, the notebook should be named:\n",
    "12301230_3434343_1238938934_lab1.ipynb.\n",
    "\n",
    "**This will be parsed by a regexp, so please double check your filename.**\n",
    "\n",
    "Before you turn this problem in, please make sure everything runs correctly. First, **restart the kernel** (in the menubar, select Kernel$\\rightarrow$Restart) and then **run all cells** (in the menubar, select Cell$\\rightarrow$Run All).\n",
    "\n",
    "**Make sure you fill in any place that says `YOUR CODE HERE` or \"YOUR ANSWER HERE\", as well as your names and email adresses below.**\n",
    "\n"
   ]
  },
  {
   "cell_type": "code",
   "execution_count": 207,
   "metadata": {
    "collapsed": true
   },
   "outputs": [],
   "source": [
    "NAME = \"Joris Mollinga\"\n",
    "NAME2 = \"Ruben Polak\"\n",
    "NAME3 = \"\"\n",
    "EMAIL = \"joris.mollinga@student.uva.nl\"\n",
    "EMAIL2 = \"rubenpolak@gmail.com\"\n",
    "EMAIL3 = \"\""
   ]
  },
  {
   "cell_type": "markdown",
   "metadata": {},
   "source": [
    "---"
   ]
  },
  {
   "cell_type": "markdown",
   "metadata": {
    "deletable": false,
    "editable": false,
    "nbgrader": {
     "checksum": "a05329aa131da96764f3c66ecaa03698",
     "grade": false,
     "grade_id": "cell-447a8ab4c82429ab",
     "locked": true,
     "schema_version": 1,
     "solution": false
    }
   },
   "source": [
    "# Lab 1: Linear Regression and Overfitting\n",
    "\n",
    "### Machine Learning 1, September 2017\n",
    "\n",
    "Notes on implementation:\n",
    "\n",
    "* You should write your code and answers in this IPython Notebook: http://ipython.org/notebook.html. If you have problems, please contact your teaching assistant.\n",
    "* Please write your answers right below the questions.\n",
    "* Among the first lines of your notebook should be \"%pylab inline\". This imports all required modules, and your plots will appear inline.\n",
    "* Refer to last week's lab notes, i.e. http://docs.scipy.org/doc/, if you are unsure about what function to use. There are different correct ways to implement each problem!\n",
    "* For this lab, your regression solutions should be in closed form, i.e., should not perform iterative gradient-based optimization but find the exact optimum directly.\n",
    "* use the provided test boxes to check if your answers are correct"
   ]
  },
  {
   "cell_type": "code",
<<<<<<< HEAD
   "execution_count": 3,
=======
   "execution_count": 2,
>>>>>>> 9115f7ee788bfe1731b4f01db335cbc2c83c0879
   "metadata": {
    "deletable": false,
    "editable": false,
    "nbgrader": {
     "checksum": "9c278ee9abc89a5ef5d829c1049141d2",
     "grade": false,
     "grade_id": "cell-a31fbe1e5a0de9bb",
     "locked": true,
     "schema_version": 1,
     "solution": false
    }
   },
   "outputs": [
    {
     "name": "stdout",
     "output_type": "stream",
     "text": [
      "Populating the interactive namespace from numpy and matplotlib\n"
     ]
    }
   ],
   "source": [
    "%pylab inline\n",
    "plt.rcParams[\"figure.figsize\"] = [20,10]"
   ]
  },
  {
   "cell_type": "markdown",
   "metadata": {
    "deletable": false,
    "editable": false,
    "nbgrader": {
     "checksum": "da272b2022410b91aa71d1666edbc7d0",
     "grade": false,
     "grade_id": "cell-b10d09d2f9867804",
     "locked": true,
     "schema_version": 1,
     "solution": false
    }
   },
   "source": [
    "$\\newcommand{\\bPhi}{\\mathbf{\\Phi}}$\n",
    "$\\newcommand{\\bx}{\\mathbf{x}}$\n",
    "$\\newcommand{\\bw}{\\mathbf{w}}$\n",
    "$\\newcommand{\\bt}{\\mathbf{t}}$\n",
    "$\\newcommand{\\by}{\\mathbf{y}}$\n",
    "$\\newcommand{\\bm}{\\mathbf{m}}$\n",
    "$\\newcommand{\\bS}{\\mathbf{S}}$\n",
    "$\\newcommand{\\bI}{\\mathbf{I}}$\n",
    "\n",
    "## Part 1: Polynomial Regression"
   ]
  },
  {
   "cell_type": "markdown",
   "metadata": {
    "deletable": false,
    "editable": false,
    "nbgrader": {
     "checksum": "20dac87a8289f1872d059a6da0b1b09c",
     "grade": false,
     "grade_id": "cell-505d034435d52b27",
     "locked": true,
     "schema_version": 1,
     "solution": false
    }
   },
   "source": [
    "### 1.1. Generate periodic data (5 points)\n",
    "Write a method `gen_cosine(N)` that generates toy data like in fig 1.2 of Bishop's book. The method should have a parameter $N$, and should return $N$-dimensional vectors $\\bx$ and $\\bt$, where $\\bx$ contains evenly spaced values from 0 to (including) 2$\\pi$, and the elements $t_i$ of $\\bt$ are distributed according to:\n",
    "\n",
    "$$t_i \\sim \\mathcal{N}(\\mu_i, \\sigma^2)$$\n",
    "\n",
    "where $x_i$ is the $i$-th elements of $\\bf{x}$, the mean $\\mu_i = \\cos(x_i)$ and the standard deviation $\\sigma = 0.2$.\n"
   ]
  },
  {
   "cell_type": "code",
   "execution_count": 3,
   "metadata": {
    "collapsed": true
   },
   "outputs": [],
   "source": [
    "import numpy as np"
   ]
  },
  {
   "cell_type": "code",
   "execution_count": 4,
   "metadata": {
    "collapsed": true,
    "deletable": false,
    "nbgrader": {
     "checksum": "52120becec3d311efee47b72cf08402a",
     "grade": false,
     "grade_id": "cell-1c8c68d862f80f7e",
     "locked": false,
     "schema_version": 1,
     "solution": true
    }
   },
   "outputs": [],
   "source": [
    "def gen_cosine(n):\n",
    "    import numpy as np\n",
    "    # YOUR CODE HERE\n",
    "    x = np.linspace(0,2*np.pi,n)\n",
    "  \n",
    "    t = np.random.normal(np.cos(x),0.2)\n",
    "    \n",
    "    # raise NotImplementedError()\n",
    "    \n",
    "    #plt.scatter(x,t)\n",
    "    #plt.plot(x,cos(x))\n",
    "    # print (len(x) == N)\n",
    "    return x, t\n",
    "\n"
   ]
  },
  {
   "cell_type": "code",
   "execution_count": 5,
   "metadata": {
    "collapsed": true,
    "deletable": false,
    "editable": false,
    "nbgrader": {
     "checksum": "f7f453424a8fcb38ba78b2a54c49ef7a",
     "grade": true,
     "grade_id": "cell-afc3c8025a62af85",
     "locked": true,
     "points": 5,
     "schema_version": 1,
     "solution": false
    }
   },
   "outputs": [],
   "source": [
    "### Test your function\n",
    "np.random.seed(5)\n",
    "N = 10\n",
    "x, t = gen_cosine(N)\n",
    "\n",
    "assert x.shape == (N,), \"the shape of x is incorrect\"\n",
    "assert t.shape == (N,), \"the shape of t is incorrect\"\n"
   ]
  },
  {
   "cell_type": "markdown",
   "metadata": {
    "deletable": false,
    "editable": false,
    "nbgrader": {
     "checksum": "36f1c468a11a98927757083b3f43db4d",
     "grade": false,
     "grade_id": "cell-22a999e8760129f8",
     "locked": true,
     "schema_version": 1,
     "solution": false
    }
   },
   "source": [
    "### 1.2 Polynomial regression (10 points)\n",
    "\n",
    "Write a method `fit_polynomial(x, t, M)` that finds the maximum-likelihood solution of an _unregularized_ $M$-th order polynomial for some dataset `x`. The error function to minimize w.r.t. $\\bw$ is:\n",
    "\n",
    "$E(\\bw) = \\frac{1}{2} (\\bPhi\\bw - \\bt)^T(\\bPhi\\bw - \\bt)$\n",
    "\n",
    "where $\\bPhi$ is the _feature matrix_ (or _design matrix_) as explained in Bishop's book at section 3.1.1, $\\bt$ is the vector of target values. Your method should return a vector $\\bw$ with the maximum-likelihood parameter estimates, as well as the _feature matrix_ $\\bPhi$."
   ]
  },
  {
   "cell_type": "code",
   "execution_count": 6,
   "metadata": {
    "collapsed": true,
    "deletable": false,
    "nbgrader": {
     "checksum": "e5f21a1de6f35ff5c520db69540d71c7",
     "grade": false,
     "grade_id": "cell-27b0d6f1bcdeb97b",
     "locked": false,
     "schema_version": 1,
     "solution": true
    }
   },
   "outputs": [],
   "source": [
    "def convertToArray(x):\n",
    "    length = len(x)\n",
    "    \n",
    "    xTemp = np.zeros([length,1])\n",
    "    \n",
    "    for i in range(0,len(x)):\n",
    "        xTemp[i] = x[i]\n",
    "\n",
    "    return xTemp\n",
    "\n",
    "\n",
    "def designmatrix(x, M): # it is highly recommended to write a helper function that computes Phi\n",
    "    # YOUR CODE HERE\n",
    "    N = len(x)\n",
    "    if len(x) != N:\n",
    "        raise NotImplementedError()\n",
    "        \n",
    "    Phi = np.zeros([N,M+1])\n",
    "    \n",
    "    for row in range (N):\n",
    "        for col in range(M+1):\n",
    "            Phi[row,col] = x[row]**col\n",
    "     \n",
    "    return Phi\n",
    "\n",
    "\n",
    "def fit_polynomial(x, t, M):\n",
    "    # YOUR CODE HERE\n",
    "    # raise NotImplementedError()\n",
    "    \n",
    "    Phi = designmatrix(x,M)\n",
    "    \n",
    "    t = convertToArray(t)\n",
    "    \n",
    "    w_ml = np.dot(np.dot(np.linalg.inv(np.dot(np.transpose(Phi),Phi)),np.transpose(Phi)),t)\n",
    "    \n",
    "    w_ml2 = w_ml.ravel()\n",
    "    \n",
    "    return w_ml2, Phi\n"
   ]
  },
  {
   "cell_type": "code",
   "execution_count": 7,
   "metadata": {
    "collapsed": true,
    "deletable": false,
    "editable": false,
    "nbgrader": {
     "checksum": "d3efb0d62c7fa04d3e557ea5346d8997",
     "grade": true,
     "grade_id": "cell-7e0f87e75d7c82aa",
     "locked": true,
     "points": 10,
     "schema_version": 1,
     "solution": false
    }
   },
   "outputs": [],
   "source": [
    "### Test your function\n",
    "N = 10\n",
    "x = np.square((np.linspace(-1, 1, N)))\n",
    "t = 0.5*x + 1.5\n",
    "m = 2\n",
    "w, Phi = fit_polynomial(x,t,m)\n",
    "\n",
    "assert w.shape == (m+1,), \"The shape of w is incorrect\"\n",
    "assert Phi.shape == (N, m+1), \"The shape of Phi is incorrect\"\n"
   ]
  },
  {
   "cell_type": "markdown",
   "metadata": {
    "deletable": false,
    "editable": false,
    "nbgrader": {
     "checksum": "b00c483b9143ea9c0dfffd4d0193c1cb",
     "grade": false,
     "grade_id": "cell-f4d51f8338ebdb54",
     "locked": true,
     "schema_version": 1,
     "solution": false
    }
   },
   "source": [
    "### 1.3 Plot (5 points)\n",
    "Sample a dataset with $N=10$, and fit four polynomials with $M \\in (0, 2, 4, 8)$.\n",
    "For each value of $M$, plot the prediction function, along with the data and the original cosine function. The resulting figure should look similar to fig 1.4 of the Bishop's book. Note that you can use matplotlib's `plt.pyplot(.)` functionality for creating grids of figures."
   ]
  },
  {
   "cell_type": "code",
   "execution_count": 9,
   "metadata": {
    "deletable": false,
    "nbgrader": {
     "checksum": "0009313fff1f2cd716d4e81f0f2ec5ff",
     "grade": true,
     "grade_id": "cell-2774a098ae80cb7e",
     "locked": false,
     "points": 5,
     "schema_version": 1,
     "solution": true
    },
    "scrolled": true
   },
   "outputs": [
    {
     "data": {
      "text/plain": [
       "<matplotlib.text.Text at 0x27572089940>"
      ]
     },
     "execution_count": 9,
     "metadata": {},
     "output_type": "execute_result"
    },
    {
     "data": {
      "image/png": "iVBORw0KGgoAAAANSUhEUgAABJMAAAJCCAYAAAB0wYY0AAAABHNCSVQICAgIfAhkiAAAAAlwSFlz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\nKiaJiIiIiIiIiIjX/h+k6y1HnlpSKwAAAABJRU5ErkJggg==\n",
      "text/plain": [
       "<matplotlib.figure.Figure at 0x275712b6dd8>"
      ]
     },
     "metadata": {},
     "output_type": "display_data"
    }
   ],
   "source": [
    "# YOUR CODE HERE\n",
    "def calculateFunctionValues(x,M,w):\n",
    "    if M == 0:\n",
    "        return w[0]\n",
    "    \n",
    "    val = 0\n",
    "    for j in range(1,M+1):\n",
    "        val = val + w[j]*(x**j)\n",
    "    val = val + w[0]\n",
    "    \n",
    "    return val\n",
    "\n",
    "def createFunctions(x,t,N):\n",
    "    \n",
    "    x_smooth = np.linspace(0,2*np.pi,N*100)\n",
    "    \n",
    "    t1 = np.zeros(N*100)\n",
    "    t2 = np.zeros(N*100)\n",
    "    t3 = np.zeros(N*100)\n",
    "    t4 = np.zeros(N*100)\n",
    "    \n",
    "    M1,M2,M3,M4 = 0,2,4,8\n",
    "    \n",
    "    w1,Phi1 = fit_polynomial(x,t,M1)\n",
    "    w2,Phi2 = fit_polynomial(x,t,M2)\n",
    "    w3,Phi3 = fit_polynomial(x,t,M3)\n",
    "    w4,Phi4 = fit_polynomial(x,t,M4)\n",
    "    \n",
    "    for i in range(0,N*100):\n",
    "        t1[i] = calculateFunctionValues(x_smooth[i],M1,w1)\n",
    "        t2[i] = calculateFunctionValues(x_smooth[i],M2,w2)\n",
    "        t3[i] = calculateFunctionValues(x_smooth[i],M3,w3)\n",
    "        t4[i] = calculateFunctionValues(x_smooth[i],M4,w4)\n",
    "    return t1,t2,t3,t4,x_smooth\n",
    "\n",
    "N = 10\n",
    "x,t = gen_cosine(N)\n",
    "\n",
    "t1,t2,t3,t4,x_smooth = createFunctions(x,t,N)\n",
    "t_cos = np.cos(x_smooth)\n",
    "\n",
    "f, axarr = plt.subplots(2, 2)\n",
    "axarr[0, 0].plot(x_smooth,t_cos)\n",
    "axarr[0, 0].scatter(x, t)\n",
    "axarr[0, 0].plot(x_smooth, t1)\n",
    "axarr[0, 0].text(3, 0.2 , \"M=0\",fontsize=18)\n",
    "axarr[0, 1].plot(x_smooth,t_cos)\n",
    "axarr[0, 1].scatter(x, t)\n",
    "axarr[0, 1].plot(x_smooth, t2)\n",
    "axarr[0, 1].text(3, 0.2 , \"M=2\",fontsize=18)\n",
    "axarr[1, 0].plot(x_smooth,t_cos)\n",
    "axarr[1, 0].scatter(x, t)\n",
    "axarr[1, 0].plot(x_smooth, t3)\n",
    "axarr[1, 0].text(3, 0.2 , \"M=4\",fontsize=18)\n",
    "axarr[1, 1].plot(x_smooth,t_cos)\n",
    "axarr[1, 1].scatter(x, t)\n",
    "axarr[1, 1].plot(x_smooth, t4)\n",
    "axarr[1, 1].text(3, 0.2 , \"M=8\",fontsize=18)"
   ]
  },
  {
   "cell_type": "markdown",
   "metadata": {
    "deletable": false,
    "editable": false,
    "nbgrader": {
     "checksum": "e1dec783687fc31125cbf948151940d4",
     "grade": false,
     "grade_id": "cell-2597ee45cb3998ed",
     "locked": true,
     "schema_version": 1,
     "solution": false
    }
   },
   "source": [
    "### 1.4 Regularized linear regression (10 points)\n",
    "\n",
    "Write a method `fit_polynomial_reg(x, t, M, lamb)` that fits a _regularized_ $M$-th order polynomial to the periodic data, as discussed in the lectures, where `lamb` is the regularization term _lambda_. (Note that 'lambda' cannot be used as a variable name in Python since it has a special meaning). The error function to minimize w.r.t. $\\bw$:\n",
    "\n",
    "$E(\\bw) = \\frac{1}{2} (\\bPhi\\bw - \\bt)^T(\\bPhi\\bw - \\bt) + \\frac{\\lambda}{2} \\mathbf{w}^T \\mathbf{w}$\n",
    "\n",
    "For background, see section 3.1.4 of Bishop's book.\n",
    "\n",
    "The function should return $\\bw$ and $\\bPhi$."
   ]
  },
  {
   "cell_type": "code",
   "execution_count": 10,
   "metadata": {
    "collapsed": true,
    "deletable": false,
    "nbgrader": {
     "checksum": "dc76736fba956e5d9cc51a318c2507c3",
     "grade": false,
     "grade_id": "cell-9fe81fd5537daff9",
     "locked": false,
     "schema_version": 1,
     "solution": true
    }
   },
   "outputs": [],
   "source": [
    "def fit_polynomial_reg(x, t, m, lamb):\n",
    "    Phi = designmatrix(x,m)\n",
    "    t = convertToArray(t)\n",
    "    w_ml = np.dot(np.linalg.inv(np.dot(lamb,np.identity(m+1)) + np.dot(np.transpose(Phi),Phi)),(np.dot(np.transpose(Phi),t)))\n",
    "    #raise NotImplementedError()\n",
    "    w_ml = w_ml.ravel()\n",
    "    return w_ml, Phi\n"
   ]
  },
  {
   "cell_type": "code",
   "execution_count": 11,
   "metadata": {
    "deletable": false,
    "editable": false,
    "nbgrader": {
     "checksum": "06ed377acf8ca027242a067aafbf59b8",
     "grade": true,
     "grade_id": "cell-a2e561cbc5a4140b",
     "locked": true,
     "points": 10,
     "schema_version": 1,
     "solution": false
    }
   },
   "outputs": [],
   "source": [
    "### Test your function\n",
    "N = 10\n",
    "x = np.square((np.linspace(-1, 1, N)))\n",
    "t = 0.5*x + 1.5\n",
    "m = 2\n",
    "lamb = 0.1\n",
    "w, Phi = fit_polynomial_reg(x,t,m, lamb)\n",
    "\n",
    "assert w.shape == (m+1,), \"The shape of w is incorrect\"\n",
    "assert Phi.shape == (N, m+1), \"The shape of w is incorrect\" \n"
   ]
  },
  {
   "cell_type": "markdown",
   "metadata": {
    "deletable": false,
    "editable": false,
    "nbgrader": {
     "checksum": "2812b11d458a2520bacff231d56b8f4c",
     "grade": false,
     "grade_id": "cell-638bbedf69267917",
     "locked": true,
     "schema_version": 1,
     "solution": false
    }
   },
   "source": [
    "\n",
    "\n",
    "\n",
    "\n",
    "\n",
    "### 1.5 Model selection by cross-validation (15 points)\n",
    "Use cross-validation to find a good choice of $M$ and $\\lambda$, given a dataset of $N=10$ datapoints generated with `gen_cosine(20)`. You should write a function that tries (loops over) a reasonable range of choices of $M$ and $\\lambda$, and returns the choice with the best cross-validation error. In this case you use $K=5$ folds.\n",
    "\n",
    "You can let $M \\in (0, 1, ..., 10)$, and let $\\lambda \\in (e^{-10}, e^{-9}, ..., e^{0})$.\n",
    "\n",
    "a) (5 points) First of all, write a method `pred_error(x_train, x_valid, t_train, t_valid, M, lamb)` that compares the prediction of your method `fit_polynomial_reg` for a given set of parameters $M$ and $\\lambda$ to `t_valid`. It should return the prediction error for a single fold."
   ]
  },
  {
   "cell_type": "code",
   "execution_count": null,
   "metadata": {
    "collapsed": true,
    "deletable": false,
    "nbgrader": {
     "checksum": "2cfb7f4cc04e4af74f4655e772e33b09",
     "grade": false,
     "grade_id": "cell-d631a845dec603be",
     "locked": false,
     "schema_version": 1,
     "solution": true
    }
   },
   "outputs": [],
   "source": [
    "def pred_error(x_train, x_valid, t_train, t_valid, M, reg):\n",
    "    # YOUR CODE HERE\n",
    "    raise NotImplementedError()\n",
    "    \n",
    "    return pred_err\n"
   ]
  },
  {
   "cell_type": "code",
   "execution_count": null,
   "metadata": {
    "collapsed": true,
    "deletable": false,
    "editable": false,
    "nbgrader": {
     "checksum": "45c2bc1172798293ab8fea0a856191ce",
     "grade": true,
     "grade_id": "cell-ba7261e2eae040fd",
     "locked": true,
     "points": 5,
     "schema_version": 1,
     "solution": false
    }
   },
   "outputs": [],
   "source": [
    "### Test your function\n",
    "N = 10\n",
    "x = np.linspace(-1, 1, N)\n",
    "t = 0.5*np.square(x) + 1.5\n",
    "M = 2\n",
    "reg = 0.1\n",
    "pred_err = pred_error(x[:-2], x[-2:], t[:-2], t[-2:], M, reg)\n",
    "\n",
    "assert pred_err < 0.01, \"pred_err is too big\"\n"
   ]
  },
  {
   "cell_type": "markdown",
   "metadata": {
    "deletable": false,
    "editable": false,
    "nbgrader": {
     "checksum": "0e6aab76a18a6ef5f13d92c330d3cd5c",
     "grade": false,
     "grade_id": "cell-4c1ef9acd1f93493",
     "locked": true,
     "schema_version": 1,
     "solution": false
    }
   },
   "source": [
    "b) (10 points) Now write a method find_best_m_and_lamb(x, t) that finds the best values for $M$ and $\\lambda$. The method should return the best $M$ and $\\lambda$. To get you started, here is a method you can use to generate indices of cross-validation folds."
   ]
  },
  {
   "cell_type": "code",
   "execution_count": null,
   "metadata": {
    "collapsed": true,
    "deletable": false,
    "editable": false,
    "nbgrader": {
     "checksum": "d673ab5c8a9231852af04a728bf93253",
     "grade": false,
     "grade_id": "cell-9abfee773ee6f780",
     "locked": true,
     "schema_version": 1,
     "solution": false
    }
   },
   "outputs": [],
   "source": [
    "def kfold_indices(N, k):\n",
    "    all_indices = np.arange(N,dtype=int)\n",
    "    np.random.shuffle(all_indices)\n",
    "    idx = [int(i) for i in np.floor(np.linspace(0,N,k+1))]\n",
    "    train_folds = []\n",
    "    valid_folds = []\n",
    "    for fold in range(k):\n",
    "        valid_indices = all_indices[idx[fold]:idx[fold+1]]\n",
    "        valid_folds.append(valid_indices)\n",
    "        train_folds.append(np.setdiff1d(all_indices, valid_indices))\n",
    "    return train_folds, valid_folds\n"
   ]
  },
  {
   "cell_type": "code",
   "execution_count": null,
   "metadata": {
    "collapsed": true,
    "deletable": false,
    "nbgrader": {
     "checksum": "65930a94ed4b46300fcf5aef054662a0",
     "grade": false,
     "grade_id": "cell-0553f08188fbfcd6",
     "locked": false,
     "schema_version": 1,
     "solution": true
    }
   },
   "outputs": [],
   "source": [
    "def find_best_m_and_lamb(x, t):\n",
    "    # YOUR CODE HERE\n",
    "    raise NotImplementedError()\n",
    "    \n",
    "    return M_best, lamb_best\n"
   ]
  },
  {
   "cell_type": "code",
   "execution_count": null,
   "metadata": {
    "collapsed": true,
    "deletable": false,
    "editable": false,
    "nbgrader": {
     "checksum": "09809a3d53a4725b396bbe8b4526cb19",
     "grade": true,
     "grade_id": "cell-523aa38e51c8913c",
     "locked": true,
     "points": 10,
     "schema_version": 1,
     "solution": false
    }
   },
   "outputs": [],
   "source": [
    "### If you want you can write your own test here"
   ]
  },
  {
   "cell_type": "markdown",
   "metadata": {
    "deletable": false,
    "editable": false,
    "nbgrader": {
     "checksum": "818d2036edbff780a450e6e1f4123eff",
     "grade": false,
     "grade_id": "cell-13e48288f0ba37af",
     "locked": true,
     "schema_version": 1,
     "solution": false
    }
   },
   "source": [
    "### 1.7 Plot best cross-validated fit (5 points)\n",
    "\n",
    "For some dataset with $N = 10$, plot the model with the optimal $M$ and $\\lambda$ according to the cross-validation error, using the method you just wrote. In addition, the plot should show the dataset itself and the function that we try to approximate. Let the plot make clear which $M$ and $\\lambda$ were found."
   ]
  },
  {
   "cell_type": "code",
   "execution_count": null,
   "metadata": {
    "collapsed": true,
    "deletable": false,
    "nbgrader": {
     "checksum": "9600d75426aa084eff763220c868f3da",
     "grade": true,
     "grade_id": "cell-f59cac6f24ce02fc",
     "locked": false,
     "points": 5,
     "schema_version": 1,
     "solution": true
    }
   },
   "outputs": [],
   "source": [
    "# YOUR CODE HERE\n",
    "raise NotImplementedError()"
   ]
  },
  {
   "cell_type": "markdown",
   "metadata": {
    "deletable": false,
    "editable": false,
    "nbgrader": {
     "checksum": "80900f5fe1ee423cd025808ec62208bc",
     "grade": false,
     "grade_id": "cell-f471e0e0ddf7667a",
     "locked": true,
     "schema_version": 1,
     "solution": false
    }
   },
   "source": [
    "## Part 2: Bayesian Linear (Polynomial) Regression\n",
    "\n",
    "### 2.1 Cosine 2 (5 points)\n",
    "\n",
    "Write a function `gen_cosine2(N)` that behaves identically to `gen_cosine(N)` except that the generated values $x_i$ are not linearly spaced, but drawn from a uniform distribution between $0$ and $2 \\pi$."
   ]
  },
  {
   "cell_type": "code",
   "execution_count": null,
   "metadata": {
    "collapsed": true,
    "deletable": false,
    "nbgrader": {
     "checksum": "068bef52eff2adf561b5b4c2f8f8465b",
     "grade": false,
     "grade_id": "cell-36addc88e1b3fe1d",
     "locked": false,
     "schema_version": 1,
     "solution": true
    }
   },
   "outputs": [],
   "source": [
    "def gen_cosine2(n):\n",
    "    \n",
    "    x = np.linspace(0, 2*np.pi, n, endpoint=True)\n",
    "    t = np.random.uniform(0, 2*np.pi, N)\n",
    "    \n",
    "    return x, t\n"
   ]
  },
  {
   "cell_type": "code",
   "execution_count": null,
   "metadata": {
    "collapsed": true,
    "deletable": false,
    "editable": false,
    "nbgrader": {
     "checksum": "5f697ef0ef1b33ff50de10ff8796dce9",
     "grade": true,
     "grade_id": "cell-57a847b66fb591af",
     "locked": true,
     "points": 5,
     "schema_version": 1,
     "solution": false
    }
   },
   "outputs": [],
   "source": [
    "### Test your function\n",
    "np.random.seed(5)\n",
    "N = 10\n",
    "x, t = gen_cosine2(N)\n",
    "\n",
    "assert x.shape == (N,), \"the shape of x is incorrect\"\n",
    "assert t.shape == (N,), \"the shape of t is incorrect\"\n"
   ]
  },
  {
   "cell_type": "markdown",
   "metadata": {},
   "source": [
    "### 2.2 Compute Posterior (15 points)\n",
    "\n",
    "You're going to implement a Bayesian linear regression model, and fit it to the periodic data. Your regression model has a zero-mean isotropic Gaussian prior over the parameters, governed by a single (scalar) precision parameter $\\alpha$, i.e.:\n",
    "\n",
    "$$p(\\bw \\;|\\; \\alpha) = \\mathcal{N}(\\bw \\;|\\; 0, \\alpha^{-1} \\bI)$$\n",
    "\n",
    "The covariance and mean of the posterior are given by:\n",
    "\n",
    "$$\\bS_N= \\left( \\alpha \\bI + \\beta \\bPhi^T \\bPhi \\right)^{-1} $$\n",
    "$$\\bm_N = \\beta\\; \\bS_N \\bPhi^T \\bt$$\n",
    "\n",
    "where $\\alpha$ is the precision of the predictive distribution, and $\\beta$ is the noise precision. \n",
    "See MLPR chapter 3.3 for background.\n",
    "\n",
    "Write a method `fit_polynomial_bayes(x, t, M, alpha, beta)` that returns the mean $\\bm_N$ and covariance $\\bS_N$ of the posterior for a $M$-th order polynomial. In addition it should return the design matrix $\\bPhi$. The arguments `x`, `t` and `M` have the same meaning as in question 1.2."
   ]
  },
  {
   "cell_type": "code",
   "execution_count": 4,
   "metadata": {
    "collapsed": true,
    "deletable": false,
    "nbgrader": {
     "checksum": "a945f997e9dec6b173c23a922ef773b3",
     "grade": false,
     "grade_id": "cell-24d68ce462db8f40",
     "locked": false,
     "schema_version": 1,
     "solution": true
    }
   },
   "outputs": [],
   "source": [
    "def designmatrix(x, M):\n",
    "    \n",
    "    Phi = np.zeros((N,M+1))\n",
    "    for row in range (N):\n",
    "        for col in range(M+1):\n",
    "            Phi[row,col] = x[row]**col \n",
    "    \n",
    "    return Phi, np.transpose(Phi)\n",
    "\n",
    "def fit_polynomial_bayes(x, t, M, alpha, beta):\n",
    "\n",
    "    Phi, Phi_T = designmatrix(x, M)\n",
    "    S = np.linalg.inv(np.dot(alpha, np.identity(M+1)) + np.dot(beta,np.dot(Phi_T,Phi)))\n",
    "    m = np.dot(beta, np.dot(S, np.dot(Phi_T, t)))\n",
    "\n",
    "    if not m.any() or not S.any() or not Phi.any():\n",
    "        raise NotImplementedError()\n",
    "    \n",
    "    return m, S, Phi"
   ]
  },
  {
   "cell_type": "code",
   "execution_count": 5,
   "metadata": {
    "deletable": false,
    "editable": false,
    "nbgrader": {
     "checksum": "efa9ff3630a36e0abbd8f33864454235",
     "grade": true,
     "grade_id": "cell-5cf266fca46cd4e9",
     "locked": true,
     "points": 15,
     "schema_version": 1,
     "solution": false
    }
   },
   "outputs": [],
   "source": [
    "### Test your function\n",
    "N = 10\n",
    "x = np.linspace(-1, 1, N)\n",
    "t = 0.5*np.square(x) + 1.5\n",
    "M = 2\n",
    "alpha = 0.5\n",
    "beta = 25\n",
    "m, S, Phi = fit_polynomial_bayes(x, t, M, alpha, beta)\n",
    "\n",
    "assert m.shape == (M+1,), \"the shape of m is incorrect\" \n",
    "assert S.shape == (M+1, M+1), \"the shape of S is incorrect\"\n",
    "assert Phi.shape == (N, M+1), \"the shape of Phi is incorrect\"\n"
   ]
  },
  {
   "cell_type": "markdown",
   "metadata": {
    "deletable": false,
    "editable": false,
    "nbgrader": {
     "checksum": "a598daf8d35262215ce9deda7cc4bb7b",
     "grade": false,
     "grade_id": "cell-471f21c230ca4203",
     "locked": true,
     "schema_version": 1,
     "solution": false
    }
   },
   "source": [
    "### 2.3 Prediction (10 points)\n",
    "\n",
    "The predictive distribution of Bayesian linear regression is:\n",
    "\n",
    "$$ p(t \\;|\\; \\bx, \\bt, \\alpha, \\beta) = \\mathcal{N}(t \\;|\\; \\bm_N^T \\phi(\\bx), \\sigma_N^2(\\bx))$$\n",
    "\n",
    "$$ \\sigma_N^2 = \\frac{1}{\\beta} + \\phi(\\bx)^T \\bS_N \\phi(\\bx) $$\n",
    "\n",
    "where $\\phi(\\bx)$ are the computed features for a new datapoint $\\bx$, and $t$ is the predicted variable for datapoint $\\bx$. \n",
    "\n",
    "Write a function that `predict_polynomial_bayes(x, m, S, beta)` that returns the predictive mean, variance and design matrix $\\bPhi$ given a new datapoint `x`, posterior mean `m`, posterior variance `S` and a choice of model variance `beta`."
   ]
  },
  {
   "cell_type": "code",
   "execution_count": null,
   "metadata": {
    "collapsed": true,
    "deletable": false,
    "nbgrader": {
     "checksum": "45fb4bc1bc26e2e2865d96eee138c9db",
     "grade": false,
     "grade_id": "cell-865ac2a455500d4b",
     "locked": false,
     "schema_version": 1,
     "solution": true
    }
   },
   "outputs": [],
   "source": [
    "def predict_polynomial_bayes(x, m, S, beta):\n",
    "    # YOUR CODE HERE\n",
    "    raise NotImplementedError()\n",
    "    \n",
    "    return mean, sigma, Phi\n"
   ]
  },
  {
   "cell_type": "code",
   "execution_count": null,
   "metadata": {
    "collapsed": true,
    "deletable": false,
    "editable": false,
    "nbgrader": {
     "checksum": "e70aef05da7f73e56b4c0d82017b58be",
     "grade": true,
     "grade_id": "cell-ecb92bcbe0131eb9",
     "locked": true,
     "points": 10,
     "schema_version": 1,
     "solution": false
    }
   },
   "outputs": [],
   "source": [
    "### Test your function\n",
    "np.random.seed(5)\n",
    "N = 10\n",
    "x = np.linspace(-1, 1, N)\n",
    "m = np.empty(3)\n",
    "S = np.empty((3, 3))\n",
    "beta = 25\n",
    "mean, sigma, Phi = predict_polynomial_bayes(x, m, S, beta)\n",
    "\n",
    "assert mean.shape == (N,), \"the shape of mean is incorrect\"\n",
    "assert sigma.shape == (N,), \"the shape of sigma is incorrect\"\n",
    "assert Phi.shape == (N, m.shape[0]), \"the shape of Phi is incorrect\"\n"
   ]
  },
  {
   "cell_type": "markdown",
   "metadata": {
    "deletable": false,
    "editable": false,
    "nbgrader": {
     "checksum": "b1614637ac227a50f9239359a86a6ca2",
     "grade": false,
     "grade_id": "cell-50452fe12b83c7ce",
     "locked": true,
     "schema_version": 1,
     "solution": false
    }
   },
   "source": [
    "### 2.4 Plot predictive distribution (10 points)\n",
    "\n",
    "a) (5 points) Generate 10 datapoints with `gen_cosine2(10)`. Compute the posterior mean and covariance for a Bayesian polynomial regression model with $M=4$, $\\alpha=\\frac{1}{2}$ and $\\beta=\\frac{1}{0.2^2}$.\n",
    "Plot the Bayesian predictive distribution, where you plot (for $x$ between 0 and $2 \\pi$) $t$'s predictive mean and a 1-sigma predictive variance using `plt.fill_between(..., alpha=0.1)` (the alpha argument induces transparency).\n",
    "\n",
    "Include the datapoints in your plot.\n"
   ]
  },
  {
   "cell_type": "code",
   "execution_count": null,
   "metadata": {
    "collapsed": true,
    "deletable": false,
    "nbgrader": {
     "checksum": "4afe3760f68ff7c6b06f18b8e60c71a6",
     "grade": true,
     "grade_id": "cell-81339ee6f9873831",
     "locked": false,
     "points": 5,
     "schema_version": 1,
     "solution": true
    }
   },
   "outputs": [],
   "source": [
    "# YOUR CODE HERE\n",
    "raise NotImplementedError()"
   ]
  },
  {
   "cell_type": "markdown",
   "metadata": {
    "deletable": false,
    "editable": false,
    "nbgrader": {
     "checksum": "7ce5a14136b89a9d932d032d0cea9c0f",
     "grade": false,
     "grade_id": "cell-c556b2f5fcee8dee",
     "locked": true,
     "schema_version": 1,
     "solution": false
    }
   },
   "source": [
    "b) (5 points) For a second plot, draw 100 samples from the parameters' posterior distribution. Each of these samples is a certain choice of parameters for 4-th order polynomial regression. \n",
    "Display each of these 100 polynomials.\n"
   ]
  },
  {
   "cell_type": "code",
   "execution_count": null,
   "metadata": {
    "collapsed": true,
    "deletable": false,
    "nbgrader": {
     "checksum": "4890f9fa631621091da1d27796ce0d9b",
     "grade": true,
     "grade_id": "cell-68cf4e7a773b42b9",
     "locked": false,
     "points": 0,
     "schema_version": 1,
     "solution": true
    }
   },
   "outputs": [],
   "source": [
    "# YOUR CODE HERE\n",
    "raise NotImplementedError()"
   ]
  },
  {
   "cell_type": "markdown",
   "metadata": {
    "deletable": false,
    "editable": false,
    "nbgrader": {
     "checksum": "84c94e24c6499df616f5cd4564009365",
     "grade": false,
     "grade_id": "cell-4fdd4eca06d7b5d5",
     "locked": true,
     "schema_version": 1,
     "solution": false
    }
   },
   "source": [
    "### 2.5 Additional questions (10 points)\n",
    "\n",
    "a) (5 points) Why is $\\beta=\\frac{1}{0.2^2}$ the best choice of $\\beta$ in section 2.4?\n",
    "\n"
   ]
  },
  {
   "cell_type": "markdown",
   "metadata": {
    "deletable": false,
    "nbgrader": {
     "checksum": "16413525920dbbe3f4bfe717867204ba",
     "grade": true,
     "grade_id": "cell-ac9287d87d554547",
     "locked": false,
     "points": 5,
     "schema_version": 1,
     "solution": true
    }
   },
   "source": [
    "YOUR ANSWER HERE"
   ]
  },
  {
   "cell_type": "markdown",
   "metadata": {
    "deletable": false,
    "editable": false,
    "nbgrader": {
     "checksum": "5db5f599fe17da142e4a8d0632b2a42d",
     "grade": false,
     "grade_id": "cell-c3c65e3353057680",
     "locked": true,
     "schema_version": 1,
     "solution": false
    }
   },
   "source": [
    "b) (5 points) What problems do we face when it comes to choosing basis functions in linear models?"
   ]
  },
  {
   "cell_type": "markdown",
   "metadata": {
    "collapsed": true,
    "deletable": false,
    "nbgrader": {
     "checksum": "d28f3ba5fe296d03caca39c240fbb769",
     "grade": true,
     "grade_id": "cell-a3e38ba4c988b6a9",
     "locked": false,
     "points": 5,
     "schema_version": 1,
     "solution": true
    }
   },
   "source": [
    "YOUR ANSWER HERE"
   ]
  }
 ],
 "metadata": {
  "kernelspec": {
   "display_name": "Python 3",
   "language": "python",
   "name": "python3"
  },
  "language_info": {
   "codemirror_mode": {
    "name": "ipython",
    "version": 3
   },
   "file_extension": ".py",
   "mimetype": "text/x-python",
   "name": "python",
   "nbconvert_exporter": "python",
   "pygments_lexer": "ipython3",
   "version": "3.6.2"
  }
 },
 "nbformat": 4,
 "nbformat_minor": 1
}
